{
 "cells": [
  {
   "cell_type": "markdown",
   "metadata": {},
   "source": [
    "# Assignment 3(a)"
   ]
  },
  {
   "cell_type": "markdown",
   "metadata": {},
   "source": [
    "### Q1 Write single neuron neural network code using tangent hyperbolic activation function"
   ]
  },
  {
   "cell_type": "code",
   "execution_count": 1,
   "metadata": {},
   "outputs": [],
   "source": [
    "from numpy import exp,array,random,dot,tanh"
   ]
  },
  {
   "cell_type": "code",
   "execution_count": 14,
   "metadata": {},
   "outputs": [],
   "source": [
    "class NeuralNetwork():\n",
    "    def __init__(self):\n",
    "        random.seed(1)\n",
    "        self.weight_matrix =2* random.random((3,1))-1\n",
    "        \n",
    "    def tanh(self,x):\n",
    "        return tanh(x)\n",
    "    \n",
    "    def tanh_derivative(self,x):\n",
    "        return 1.0 -tanh(x)**2\n",
    "    \n",
    "    def sigmoid(x,derivative=False):\n",
    "        s=1/(1 + np.exp(-x))\n",
    "        if derivative:\n",
    "            \n",
    "    \n",
    "    def forward_propagation(self,inputs):\n",
    "        return self.tanh(dot(inputs,self.weight_matrix))\n",
    "    \n",
    "    def train(self,train_inputs,train_outputs,num_train_iterations):\n",
    "        for iteration in range(num_train_iterations):\n",
    "            output=self.forward_propagation(train_inputs)\n",
    "            error=train_outputs - output\n",
    "            \n",
    "            adjustment =dot(train_inputs.T, error*self.tanh_derivative(output))\n",
    "            self.weight_matrix +=adjustment\n",
    "        \n",
    "    "
   ]
  },
  {
   "cell_type": "code",
   "execution_count": 16,
   "metadata": {},
   "outputs": [
    {
     "name": "stdout",
     "output_type": "stream",
     "text": [
      "RANDOM WEIGHTS AT THE START OF TRAINING\n",
      "[[-0.16595599]\n",
      " [ 0.44064899]\n",
      " [-0.99977125]]\n",
      "NEW WEIGHTS AFTER TRAINING!\n",
      "[[6.54503508]\n",
      " [0.19475861]\n",
      " [0.34310322]]\n",
      "Testing network on new Examples -->\n",
      "[0.19233295]\n"
     ]
    }
   ],
   "source": [
    "if __name__==\"__main__\":\n",
    "    neural_network=NeuralNetwork()\n",
    "    \n",
    "    print(\"RANDOM WEIGHTS AT THE START OF TRAINING\")\n",
    "    print(neural_network.weight_matrix)\n",
    "    \n",
    "    train_inputs=array([[0, 0, 1], [1, 1, 1], [1, 0, 1], [0, 1, 1]])\n",
    "    train_outputs=array([[0, 1, 1, 0]]).T\n",
    "    \n",
    "    neural_network.train(train_inputs, train_outputs, 100000)\n",
    "    \n",
    "    print(\"NEW WEIGHTS AFTER TRAINING!\")\n",
    "    print(neural_network.weight_matrix)\n",
    "    \n",
    "    print(\"Testing network on new Examples -->\")\n",
    "    print(neural_network.forward_propagation(array([0, 1, 0])))\n",
    "    \n",
    "    \n",
    "    \n",
    "    "
   ]
  }
 ],
 "metadata": {
  "kernelspec": {
   "display_name": "Python 3",
   "language": "python",
   "name": "python3"
  },
  "language_info": {
   "codemirror_mode": {
    "name": "ipython",
    "version": 3
   },
   "file_extension": ".py",
   "mimetype": "text/x-python",
   "name": "python",
   "nbconvert_exporter": "python",
   "pygments_lexer": "ipython3",
   "version": "3.7.0"
  }
 },
 "nbformat": 4,
 "nbformat_minor": 2
}

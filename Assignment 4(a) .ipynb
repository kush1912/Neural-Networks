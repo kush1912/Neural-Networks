{
 "cells": [
  {
   "cell_type": "markdown",
   "metadata": {},
   "source": [
    "# Assignment 4(a)"
   ]
  },
  {
   "cell_type": "markdown",
   "metadata": {},
   "source": [
    "### Question 01 GameTime"
   ]
  },
  {
   "cell_type": "code",
   "execution_count": null,
   "metadata": {},
   "outputs": [],
   "source": [
    "import numpy as np\n",
    "x=np.array(([2,9],[1,5],[3,6]),dtype=float)\n",
    "y=np.array(([92],[86],[89]),dtype=float)\n",
    "\n",
    "x=x/np.amax(x,axis=0)\n",
    "y=y/100"
   ]
  },
  {
   "cell_type": "code",
   "execution_count": 2,
   "metadata": {},
   "outputs": [],
   "source": [
    "class neural_network :\n",
    "    def __init__(self):\n",
    "        self.inputsize=2\n",
    "        self.outputsize=1\n",
    "        self.hiddensize=3\n",
    "        \n",
    "        self.w1=np.random.randn(self.inputsize, self.hiddensize)\n",
    "        self.w2=np.random.randn(self.hiddensize, self.outputsize)\n",
    "\n",
    "    def sigmoid(self,s):\n",
    "        return 1/(1+np.exp(-s))\n",
    "    \n",
    "    def sigmoidder(self,s):\n",
    "        return s*(1-s)\n",
    "    \n",
    "    def forward(self,x):\n",
    "        self.z=np.dot(x,self.w1)\n",
    "        self.z2=self.sigmoid(self.z)\n",
    "        self.z3=np.dot(self.z2, self.w2)\n",
    "        o=self.sigmoid(self.z3)\n",
    "        return o\n",
    "    \n",
    "    def backward(self,x,y,o):\n",
    "        self.o_error= y-o\n",
    "        self.o_delta=self.o_error*self.sigmoidder(o)\n",
    "        \n",
    "        self.z2_error=self.o_delta.dot(self.w2.T)\n",
    "        self.z2_delta=self.z2_error * self.sigmoidder(self.z2)\n",
    "        \n",
    "        self.w1+= x.T.dot(self.z2_delta)\n",
    "        self.w2+= self.z2.T.dot(self.o_delta)\n",
    "        \n",
    "    def train (self,x,y,n):\n",
    "        for i in range(n):\n",
    "            o=self.forward(x)\n",
    "            self.backward(x,y,o)"
   ]
  },
  {
   "cell_type": "code",
   "execution_count": 3,
   "metadata": {},
   "outputs": [
    {
     "name": "stdout",
     "output_type": "stream",
     "text": [
      "[[-0.18599138  0.22394195 -1.639704  ]\n",
      " [-1.19880941  0.33148426 -0.18553273]]\n",
      "---------------\n",
      "[[ 1.77552554]\n",
      " [ 0.11129584]\n",
      " [-1.65067111]]\n",
      "---------------\n",
      "[[-0.27601392 -0.09180133 -1.80474061]\n",
      " [ 0.97361753  1.14570666 -0.79830832]]\n",
      "---------------\n",
      "[[ 2.23048699]\n",
      " [ 1.41427052]\n",
      " [-1.71229309]]\n",
      "---------------\n",
      "[0.97142865]\n"
     ]
    }
   ],
   "source": [
    "if __name__==\"__main__\":\n",
    "    neural_network=neural_network()\n",
    "    print(neural_network.w1)\n",
    "    print(\"---------------\")\n",
    "    print(neural_network.w2)\n",
    "    print(\"---------------\")\n",
    "    \n",
    "    neural_network.train(x,y,10000)\n",
    "    \n",
    "    print(neural_network.w1)\n",
    "    print(\"---------------\")\n",
    "    print(neural_network.w2)\n",
    "    print(\"---------------\")\n",
    "    print(neural_network.forward(np.array([3,4])))"
   ]
  }
 ],
 "metadata": {
  "kernelspec": {
   "display_name": "Python 3",
   "language": "python",
   "name": "python3"
  },
  "language_info": {
   "codemirror_mode": {
    "name": "ipython",
    "version": 3
   },
   "file_extension": ".py",
   "mimetype": "text/x-python",
   "name": "python",
   "nbconvert_exporter": "python",
   "pygments_lexer": "ipython3",
   "version": "3.7.0"
  }
 },
 "nbformat": 4,
 "nbformat_minor": 2
}
